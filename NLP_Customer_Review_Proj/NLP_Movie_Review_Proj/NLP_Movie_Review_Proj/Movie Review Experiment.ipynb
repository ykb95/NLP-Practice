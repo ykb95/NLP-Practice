{
 "cells": [
  {
   "cell_type": "code",
   "execution_count": 1,
   "metadata": {},
   "outputs": [],
   "source": [
    "import nltk"
   ]
  },
  {
   "cell_type": "code",
   "execution_count": 2,
   "metadata": {},
   "outputs": [],
   "source": [
    "from nltk.tokenize import TweetTokenizer"
   ]
  },
  {
   "cell_type": "code",
   "execution_count": 3,
   "metadata": {},
   "outputs": [],
   "source": [
    "from nltk.probability import FreqDist\n",
    "from nltk.util import ngrams\n",
    "from nltk.corpus import stopwords, wordnet\n",
    "from nltk.stem import WordNetLemmatizer\n",
    "\n",
    "import sklearn\n",
    "from sklearn import metrics\n",
    "from sklearn.metrics import confusion_matrix\n",
    "from sklearn.model_selection import train_test_split\n",
    "\n",
    "from sklearn.feature_extraction.text import TfidfVectorizer\n",
    "from sklearn.naive_bayes import MultinomialNB\n",
    "\n",
    "import re\n",
    "import pandas as pd\n",
    "import numpy as np\n"
   ]
  },
  {
   "cell_type": "code",
   "execution_count": 4,
   "metadata": {},
   "outputs": [],
   "source": [
    "with open('C:\\Users\\WIN8\\Desktop\\Machine Learning\\NLP_Movie_Review_Proj\\NLP_Movie_Review_Proj\\yelp_labelled.txt', 'r') as f:\n",
    "    review_lines = f.readlines()\n"
   ]
  },
  {
   "cell_type": "code",
   "execution_count": 8,
   "metadata": {},
   "outputs": [],
   "source": [
    "# review_lines"
   ]
  },
  {
   "cell_type": "code",
   "execution_count": 5,
   "metadata": {},
   "outputs": [
    {
     "name": "stdout",
     "output_type": "stream",
     "text": [
      "<type 'list'>\n"
     ]
    }
   ],
   "source": [
    "print(type(review_lines))"
   ]
  },
  {
   "cell_type": "code",
   "execution_count": 6,
   "metadata": {},
   "outputs": [
    {
     "name": "stdout",
     "output_type": "stream",
     "text": [
      "1000\n"
     ]
    }
   ],
   "source": [
    "print(len(review_lines))"
   ]
  },
  {
   "cell_type": "code",
   "execution_count": 9,
   "metadata": {},
   "outputs": [],
   "source": [
    "# for one_line in review_lines[0:10]:\n",
    "#     print(one_line)"
   ]
  },
  {
   "cell_type": "code",
   "execution_count": 10,
   "metadata": {},
   "outputs": [],
   "source": [
    "reviews = []\n",
    "review_labels = []"
   ]
  },
  {
   "cell_type": "code",
   "execution_count": 11,
   "metadata": {},
   "outputs": [],
   "source": [
    "for line in review_lines:\n",
    "    line_list = line.split(\"\\t\")\n",
    "    review = line_list[0]\n",
    "    review = review.lower()\n",
    "    reviews.append(review)\n",
    "    label = line_list[1]\n",
    "    label = int(label)\n",
    "    review_labels.append(label)\n"
   ]
  },
  {
   "cell_type": "code",
   "execution_count": 12,
   "metadata": {},
   "outputs": [],
   "source": [
    "# print(reviews)\n",
    "# print(len(reviews))"
   ]
  },
  {
   "cell_type": "code",
   "execution_count": 14,
   "metadata": {},
   "outputs": [],
   "source": [
    "# print(len(review_labels))\n",
    "# print(reviews[0])\n",
    "# print(review_labels[0])"
   ]
  },
  {
   "cell_type": "code",
   "execution_count": 16,
   "metadata": {},
   "outputs": [],
   "source": [
    "review_string = \" \".join(reviews)\n",
    "# print(review_string)"
   ]
  },
  {
   "cell_type": "code",
   "execution_count": 17,
   "metadata": {},
   "outputs": [],
   "source": [
    "tknzr = TweetTokenizer()\n",
    "review_tokens = tknzr.tokenize(review_string)"
   ]
  },
  {
   "cell_type": "code",
   "execution_count": 18,
   "metadata": {},
   "outputs": [],
   "source": [
    "# print(review_tokens)\n",
    "# print(len(review_tokens))"
   ]
  },
  {
   "cell_type": "code",
   "execution_count": 19,
   "metadata": {},
   "outputs": [],
   "source": [
    "\n",
    "#Removing punctuation\n",
    "punctuation = re.compile(r'[-.?!,\":;()|0-9]')\n",
    "review_tokens2 = []\n"
   ]
  },
  {
   "cell_type": "code",
   "execution_count": 20,
   "metadata": {},
   "outputs": [
    {
     "name": "stdout",
     "output_type": "stream",
     "text": [
      "10848\n"
     ]
    }
   ],
   "source": [
    "for token in review_tokens:\n",
    "    word = punctuation.sub(\"\", token)\n",
    "    if len(word)>0:\n",
    "        review_tokens2.append(word)\n",
    "        \n",
    "print(len(review_tokens2))\n"
   ]
  },
  {
   "cell_type": "code",
   "execution_count": 21,
   "metadata": {},
   "outputs": [],
   "source": [
    "#Removing stopwords\n",
    "# nltk.download('stopwords')\n",
    "# from nltk.corpus import stopwords\n",
    "#  set(stopwords.words('english'))\n",
    "review_tokens3 = []\n",
    "stp_words = set(stopwords.words('english'))\n"
   ]
  },
  {
   "cell_type": "code",
   "execution_count": 22,
   "metadata": {},
   "outputs": [
    {
     "name": "stdout",
     "output_type": "stream",
     "text": [
      "5588\n"
     ]
    }
   ],
   "source": [
    "for token in review_tokens2: # remove stop words\n",
    "    token = token.lower()\n",
    "    if token not in stp_words:\n",
    "        review_tokens3.append(token)\n",
    "        \n",
    "print(len(review_tokens3))\n"
   ]
  },
  {
   "cell_type": "code",
   "execution_count": 25,
   "metadata": {},
   "outputs": [],
   "source": [
    "#Finding Frequency Distribution\n",
    "\n",
    "fdist = FreqDist() #dictionary with keys as word and values as count\n",
    "for word in review_tokens3:\n",
    "    fdist[word]+=1\n"
   ]
  },
  {
   "cell_type": "code",
   "execution_count": 26,
   "metadata": {},
   "outputs": [],
   "source": [
    "# fdist\n",
    "# print(fdist)"
   ]
  },
  {
   "cell_type": "code",
   "execution_count": 27,
   "metadata": {},
   "outputs": [],
   "source": [
    "# fdist_top20 = fdist.most_common(20) #top 20 tokens with highest frequency"
   ]
  },
  {
   "cell_type": "code",
   "execution_count": 28,
   "metadata": {},
   "outputs": [],
   "source": [
    "# fdist_top20"
   ]
  },
  {
   "cell_type": "code",
   "execution_count": 29,
   "metadata": {},
   "outputs": [
    {
     "name": "stderr",
     "output_type": "stream",
     "text": [
      "[nltk_data] Downloading package averaged_perceptron_tagger to\n",
      "[nltk_data]     C:\\Users\\WIN8\\AppData\\Roaming\\nltk_data...\n",
      "[nltk_data]   Package averaged_perceptron_tagger is already up-to-\n",
      "[nltk_data]       date!\n"
     ]
    }
   ],
   "source": [
    "nltk.download('averaged_perceptron_tagger')\n",
    "pos_list = [] # POS=Part Of Speech\n",
    "for token in review_tokens3: # List after stopwords and punctuation\n",
    "    pos_list.append(nltk.pos_tag([token]))# The word should be inside [], else tagger will take it as string\n"
   ]
  },
  {
   "cell_type": "code",
   "execution_count": 32,
   "metadata": {},
   "outputs": [
    {
     "name": "stdout",
     "output_type": "stream",
     "text": [
      "[(u'wow', 'NN')]\n"
     ]
    }
   ],
   "source": [
    "# print(len(pos_list))\n",
    "\n",
    "print(pos_list[0])\n",
    "\n",
    "pos_set = set()\n"
   ]
  },
  {
   "cell_type": "code",
   "execution_count": 33,
   "metadata": {},
   "outputs": [
    {
     "name": "stdout",
     "output_type": "stream",
     "text": [
      "20\n",
      "set(['MD', 'VB', 'VBG', 'RB', 'NN', 'VBD', 'CC', 'JJS', 'VBN', 'RBR', \"''\", 'PRP', 'JJ', 'IN', 'VBZ', 'DT', 'CD', 'NNS', 'JJR', '$'])\n"
     ]
    }
   ],
   "source": [
    "\n",
    "for pos in pos_list: # Finding all different Part of Speech Tags\n",
    "    pos_set.add(pos[0][1])\n",
    "    \n",
    "print(len(pos_set))\n",
    "\n",
    "print(pos_set)\n"
   ]
  },
  {
   "cell_type": "code",
   "execution_count": 36,
   "metadata": {},
   "outputs": [],
   "source": [
    "#Finding Adjectives\n",
    "pos_JJ = []\n",
    "\n",
    "for each_POS in pos_list:\n",
    "    if each_POS[0][1] in [\"JJ\",\"JJR\",\"JJS\"]:\n",
    "        pos_JJ.append(each_POS[0][0])\n",
    "\n",
    "# print(pos_JJ)"
   ]
  },
  {
   "cell_type": "code",
   "execution_count": 37,
   "metadata": {},
   "outputs": [
    {
     "name": "stdout",
     "output_type": "stream",
     "text": [
      "166\n"
     ]
    }
   ],
   "source": [
    "fdist_JJ = FreqDist()\n",
    "for word in pos_JJ:\n",
    "    fdist_JJ[word] += 1\n",
    "    \n",
    "print(len(fdist_JJ))\n"
   ]
  },
  {
   "cell_type": "code",
   "execution_count": 38,
   "metadata": {},
   "outputs": [
    {
     "name": "stdout",
     "output_type": "stream",
     "text": [
      "[(u'good', 95), (u'great', 70), (u'best', 30), (u'nice', 25), (u'delicious', 23), (u'disappointed', 19), (u'bad', 18), (u'much', 18), (u'worst', 15), (u'fresh', 14), (u'fantastic', 12), (u'next', 11), (u'terrible', 10), (u'little', 10), (u'many', 9), (u'hot', 9), (u'overall', 8), (u'impressed', 8), (u'happy', 8), (u'attentive', 7)]\n"
     ]
    }
   ],
   "source": [
    "fdist_JJ_top20 = fdist_JJ.most_common(20) #top 20 tokens with highest frequencies\n",
    "\n",
    "print(fdist_JJ_top20)\n"
   ]
  },
  {
   "cell_type": "code",
   "execution_count": 40,
   "metadata": {},
   "outputs": [],
   "source": [
    "#Lemmatizing (eg: -> rocks : rock-> corpora : corpus-> better : good) words\n",
    "\n",
    "word_lem = WordNetLemmatizer()\n",
    "lem_ADJ = []\n",
    "lem_ADV = []\n",
    "lem_VERB = []\n"
   ]
  },
  {
   "cell_type": "code",
   "execution_count": 41,
   "metadata": {},
   "outputs": [
    {
     "name": "stderr",
     "output_type": "stream",
     "text": [
      "[nltk_data] Downloading package wordnet to\n",
      "[nltk_data]     C:\\Users\\WIN8\\AppData\\Roaming\\nltk_data...\n",
      "[nltk_data]   Package wordnet is already up-to-date!\n"
     ]
    }
   ],
   "source": [
    "nltk.download('wordnet')\n",
    "for word in review_tokens3:\n",
    "    word_pos =nltk.pos_tag([word])\n",
    "    \n",
    "    if word_pos[0][1] in [\"JJ\", \"JJR\", \"JJS\"]:\n",
    "        lem_ADJ.append((word_pos[0][0], word_lem.lemmatize(word, wordnet.ADJ)))\n",
    "        \n",
    "    if word_pos[0][1] in [\"RB\",\"RBR\",\"RBS\"]:\n",
    "        lem_ADV.append((word_pos[0][0], word_lem.lemmatize(word, wordnet.VERB)))\n",
    "        \n",
    "    if word_pos[0][1] in [\"VB\",\"VBD\",\"VBG\",\"VBN\",\"VBZ\"]:\n",
    "        lem_VERB.append((word_pos[0][0], word_lem.lemmatize(word, wordnet.VERB)))\n"
   ]
  },
  {
   "cell_type": "code",
   "execution_count": 42,
   "metadata": {},
   "outputs": [],
   "source": [
    "\n",
    "# print(len(lem_ADJ))    \n"
   ]
  },
  {
   "cell_type": "code",
   "execution_count": 99,
   "metadata": {},
   "outputs": [],
   "source": [
    "# print(lem_ADJ[:10])"
   ]
  },
  {
   "cell_type": "code",
   "execution_count": 100,
   "metadata": {},
   "outputs": [],
   "source": [
    "# print(lem_ADV)"
   ]
  },
  {
   "cell_type": "code",
   "execution_count": 101,
   "metadata": {},
   "outputs": [],
   "source": [
    "# print(lem_ADV[:10])\n",
    "\n",
    "# print(lem_VERB)\n",
    "\n",
    "# print(lem_VERB[:10])\n"
   ]
  },
  {
   "cell_type": "code",
   "execution_count": 43,
   "metadata": {},
   "outputs": [
    {
     "name": "stdout",
     "output_type": "stream",
     "text": [
      "500\n",
      "500\n"
     ]
    }
   ],
   "source": [
    "# Checking most frequent n-grams\n",
    "\n",
    "#Segregating all positive and negative reviews\n",
    "\n",
    "positive_reviews = []\n",
    "negative_reviews = []\n",
    "\n",
    "for line in review_lines: # Splitting reviews into text and labels\n",
    "    line_list = line.split(\"\\t\")\n",
    "    \n",
    "    label = line_list[1]\n",
    "    label = int(label)\n",
    "    \n",
    "    if label==1:\n",
    "        pos_review = line_list[0]\n",
    "        pos_review = pos_review.lower()\n",
    "        positive_reviews.append(pos_review)\n",
    "        \n",
    "    elif label==0:\n",
    "        neg_review = line_list[0]\n",
    "        neg_review = neg_review.lower()\n",
    "        negative_reviews.append(neg_review)\n",
    "        \n",
    "print(len(positive_reviews))\n",
    "print(len(negative_reviews))\n"
   ]
  },
  {
   "cell_type": "code",
   "execution_count": 44,
   "metadata": {},
   "outputs": [
    {
     "name": "stderr",
     "output_type": "stream",
     "text": [
      "[nltk_data] Downloading package punkt to\n",
      "[nltk_data]     C:\\Users\\WIN8\\AppData\\Roaming\\nltk_data...\n",
      "[nltk_data]   Package punkt is already up-to-date!\n"
     ]
    },
    {
     "name": "stdout",
     "output_type": "stream",
     "text": [
      "6016\n",
      "('wow', '...', 'loved')\n",
      "[(('!', '!', '!'), 46), (('this', 'place', 'is'), 12), (('the', 'food', 'was'), 11), (('this', 'place', '.'), 9), (('.', 'the', 'food'), 7), (('.', 'i', 'love'), 7), (('our', 'server', 'was'), 7), (('.', 'this', 'place'), 7), (('and', 'it', 'was'), 6), (('.', 'i', 'had'), 6)]\n"
     ]
    }
   ],
   "source": [
    "#Working on positive reviews\n",
    "nltk.download('punkt')\n",
    "\n",
    "pos_review_string = \" \".join(positive_reviews)\n",
    "\n",
    "pos_rev_tokens = nltk.word_tokenize(pos_review_string)\n",
    "\n",
    "pos_rev_trigrams = list(nltk.trigrams(pos_rev_tokens))\n",
    "\n",
    "print(len(pos_rev_trigrams))\n",
    "\n",
    "print(pos_rev_trigrams[0])\n",
    "\n",
    "fdist_pos_rev = nltk.FreqDist(pos_rev_trigrams)\n",
    "\n",
    "print(fdist_pos_rev.most_common(10))\n"
   ]
  },
  {
   "cell_type": "code",
   "execution_count": 46,
   "metadata": {},
   "outputs": [],
   "source": [
    "#Working on Negative Reviews\n",
    "    \n",
    "# neg_review_string = \" \".join(negative_reviews)\n",
    "\n",
    "# neg_rev_tokens = nltk.word_tokenize(neg_review_string)\n",
    "\n",
    "# neg_rev_trigrams = list(nltk.trigrams(neg_rev_tokens))\n",
    "\n",
    "# print(len(neg_rev_trigrams))\n",
    "\n",
    "# print(neg_rev_trigrams[0])\n",
    "\n",
    "# fdist_neg_rev = nltk.FreqDist(neg_rev_trigrams)\n",
    "\n",
    "# print(fdist_neg_rev.most_common(10))    \n"
   ]
  },
  {
   "cell_type": "code",
   "execution_count": 51,
   "metadata": {},
   "outputs": [],
   "source": [
    "#Predicting reviews using machine learning\n",
    "\n",
    "#Creating features and labels\n",
    "\n",
    "review_list = []\n",
    "\n",
    "for line in review_lines: # Splitting reviews into text and labels\n",
    "    line_list = line.split(\"\\t\")\n",
    "    review = line_list[0]\n",
    "    review = review.lower()\n",
    "    review_list.append(review)\n",
    "\n",
    "# print(len(review_list))\n",
    "\n",
    "# print(review_list[0][1])\n"
   ]
  },
  {
   "cell_type": "code",
   "execution_count": 52,
   "metadata": {},
   "outputs": [],
   "source": [
    "tf_vect = TfidfVectorizer(min_df = 2, lowercase = True, stop_words = 'english')\n",
    "\n",
    "X_TFIDF = tf_vect.fit_transform(review_list)\n"
   ]
  },
  {
   "cell_type": "code",
   "execution_count": 56,
   "metadata": {},
   "outputs": [],
   "source": [
    "# print(type(X_TFIDF))\n",
    "\n",
    "# print(X_TFIDF.shape)\n"
   ]
  },
  {
   "cell_type": "code",
   "execution_count": 57,
   "metadata": {},
   "outputs": [],
   "source": [
    "X_TFIDF_names = tf_vect.get_feature_names()\n",
    "\n",
    "X_tf = pd.DataFrame(X_TFIDF.toarray(), columns = X_TFIDF_names)\n"
   ]
  },
  {
   "cell_type": "code",
   "execution_count": 58,
   "metadata": {},
   "outputs": [],
   "source": [
    "# print(X_tf.head())\n"
   ]
  },
  {
   "cell_type": "code",
   "execution_count": 60,
   "metadata": {},
   "outputs": [],
   "source": [
    "y = pd.Series(review_labels)\n",
    "\n",
    "# print(type(y))\n",
    "\n",
    "# print(y.shape)\n",
    "\n",
    "# print(y.head())\n"
   ]
  },
  {
   "cell_type": "code",
   "execution_count": 64,
   "metadata": {},
   "outputs": [],
   "source": [
    "#Train-test Split\n",
    "\n",
    "X_TF_train, X_TF_test, y_TF_train, y_TF_test = train_test_split(X_tf, y, test_size=0.2, random_state=5)\n"
   ]
  },
  {
   "cell_type": "code",
   "execution_count": 61,
   "metadata": {},
   "outputs": [
    {
     "data": {
      "text/plain": [
       "'\\nprint(X_TF_train.shape)\\nprint(X_TF_test.shape)\\nprint(y_TF_train.shape)\\nprint(y_TF_test.shape)\\n'"
      ]
     },
     "execution_count": 61,
     "metadata": {},
     "output_type": "execute_result"
    }
   ],
   "source": [
    "'''\n",
    "print(X_TF_train.shape)\n",
    "print(X_TF_test.shape)\n",
    "print(y_TF_train.shape)\n",
    "print(y_TF_test.shape)\n",
    "'''"
   ]
  },
  {
   "cell_type": "code",
   "execution_count": 65,
   "metadata": {},
   "outputs": [],
   "source": [
    "#Using Multinomial Naive Bayes\n",
    "clf_TF = MultinomialNB()\n",
    "clf_TF.fit(X_TF_train, y_TF_train)\n",
    "\n",
    "y_TF_pred = clf_TF.predict(X_TF_test)\n"
   ]
  },
  {
   "cell_type": "code",
   "execution_count": 62,
   "metadata": {},
   "outputs": [],
   "source": [
    "# print(type(y_TF_pred))\n",
    "\n",
    "# print(y_TF_pred.shape)\n",
    "\n",
    "# print(metrics.accuracy_score(y_TF_test, y_TF_pred))\n"
   ]
  },
  {
   "cell_type": "code",
   "execution_count": 68,
   "metadata": {},
   "outputs": [],
   "source": [
    "# score_clf_TF = confusion_matrix(y_TF_test, y_TF_pred)\n"
   ]
  },
  {
   "cell_type": "code",
   "execution_count": 69,
   "metadata": {},
   "outputs": [],
   "source": [
    "# print(score_clf_TF)\n"
   ]
  },
  {
   "cell_type": "code",
   "execution_count": 70,
   "metadata": {},
   "outputs": [],
   "source": [
    "# TP = score_clf_TF[0][0]\n",
    "# FP = score_clf_TF[0][1]\n",
    "# FN = score_clf_TF[1][0]\n",
    "# TN = score_clf_TF[1][1]\n"
   ]
  },
  {
   "cell_type": "code",
   "execution_count": 71,
   "metadata": {},
   "outputs": [],
   "source": [
    "# print('True Positive: ',TP)\n",
    "# print('False Positive: ', FP)\n",
    "# print('False Negative: ', FN)\n",
    "# print('True Negative: ', TN)\n"
   ]
  },
  {
   "cell_type": "code",
   "execution_count": 72,
   "metadata": {},
   "outputs": [],
   "source": [
    "# print(\"Correctly Identified: \", TP+TN)\n",
    "# print(\"Wrongly Identified: \", FP+FN)\n"
   ]
  },
  {
   "cell_type": "code",
   "execution_count": 73,
   "metadata": {},
   "outputs": [],
   "source": [
    "#Checking Classifier on new Data\n",
    "\n",
    "def find_sentiments (sentence):\n",
    "    sent_list = [sentence]\n",
    "    sent_vect = tf_vect.transform(sent_list)\n",
    "    sent_pred = clf_TF.predict(sent_vect)\n",
    "    print(\"Sentiment: \",sent_pred[0])\n",
    "    return\n"
   ]
  },
  {
   "cell_type": "code",
   "execution_count": 74,
   "metadata": {},
   "outputs": [
    {
     "name": "stdout",
     "output_type": "stream",
     "text": [
      "('Sentiment: ', 1)\n",
      "('Sentiment: ', 0)\n",
      "('Sentiment: ', 0)\n"
     ]
    }
   ],
   "source": [
    "\n",
    "find_sentiments(\"I liked the food a lot\")\n",
    "find_sentiments(\"The food was very bad\")\n",
    "find_sentiments(\"The place was good but the food was bad\")"
   ]
  },
  {
   "cell_type": "code",
   "execution_count": null,
   "metadata": {},
   "outputs": [],
   "source": []
  },
  {
   "cell_type": "code",
   "execution_count": null,
   "metadata": {},
   "outputs": [],
   "source": []
  },
  {
   "cell_type": "code",
   "execution_count": null,
   "metadata": {},
   "outputs": [],
   "source": []
  },
  {
   "cell_type": "code",
   "execution_count": null,
   "metadata": {},
   "outputs": [],
   "source": []
  },
  {
   "cell_type": "code",
   "execution_count": null,
   "metadata": {},
   "outputs": [],
   "source": []
  },
  {
   "cell_type": "code",
   "execution_count": null,
   "metadata": {},
   "outputs": [],
   "source": []
  },
  {
   "cell_type": "code",
   "execution_count": null,
   "metadata": {},
   "outputs": [],
   "source": []
  },
  {
   "cell_type": "code",
   "execution_count": null,
   "metadata": {},
   "outputs": [],
   "source": []
  },
  {
   "cell_type": "code",
   "execution_count": null,
   "metadata": {},
   "outputs": [],
   "source": []
  },
  {
   "cell_type": "code",
   "execution_count": null,
   "metadata": {},
   "outputs": [],
   "source": []
  },
  {
   "cell_type": "code",
   "execution_count": null,
   "metadata": {},
   "outputs": [],
   "source": []
  },
  {
   "cell_type": "code",
   "execution_count": null,
   "metadata": {},
   "outputs": [],
   "source": []
  },
  {
   "cell_type": "code",
   "execution_count": null,
   "metadata": {},
   "outputs": [],
   "source": []
  },
  {
   "cell_type": "code",
   "execution_count": null,
   "metadata": {},
   "outputs": [],
   "source": []
  },
  {
   "cell_type": "code",
   "execution_count": null,
   "metadata": {},
   "outputs": [],
   "source": []
  },
  {
   "cell_type": "code",
   "execution_count": null,
   "metadata": {},
   "outputs": [],
   "source": []
  },
  {
   "cell_type": "code",
   "execution_count": null,
   "metadata": {},
   "outputs": [],
   "source": []
  },
  {
   "cell_type": "code",
   "execution_count": null,
   "metadata": {},
   "outputs": [],
   "source": []
  },
  {
   "cell_type": "code",
   "execution_count": null,
   "metadata": {},
   "outputs": [],
   "source": []
  },
  {
   "cell_type": "code",
   "execution_count": null,
   "metadata": {},
   "outputs": [],
   "source": []
  },
  {
   "cell_type": "code",
   "execution_count": null,
   "metadata": {},
   "outputs": [],
   "source": []
  },
  {
   "cell_type": "code",
   "execution_count": null,
   "metadata": {},
   "outputs": [],
   "source": []
  },
  {
   "cell_type": "code",
   "execution_count": null,
   "metadata": {},
   "outputs": [],
   "source": []
  },
  {
   "cell_type": "code",
   "execution_count": null,
   "metadata": {},
   "outputs": [],
   "source": [
    "\n"
   ]
  }
 ],
 "metadata": {
  "kernelspec": {
   "display_name": "Python 2",
   "language": "python",
   "name": "python2"
  },
  "language_info": {
   "codemirror_mode": {
    "name": "ipython",
    "version": 2
   },
   "file_extension": ".py",
   "mimetype": "text/x-python",
   "name": "python",
   "nbconvert_exporter": "python",
   "pygments_lexer": "ipython2",
   "version": "2.7.14"
  }
 },
 "nbformat": 4,
 "nbformat_minor": 2
}
